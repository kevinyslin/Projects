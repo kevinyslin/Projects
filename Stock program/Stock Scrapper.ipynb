{
 "cells": [
  {
   "cell_type": "code",
   "execution_count": 19,
   "metadata": {},
   "outputs": [],
   "source": [
    "import pandas as pd\n",
    "import numpy as np\n",
    "import bs4\n",
    "import requests\n",
    "import itertools\n",
    "from datetime import datetime\n",
    "from bs4 import BeautifulSoup"
   ]
  },
  {
   "cell_type": "code",
   "execution_count": 20,
   "metadata": {},
   "outputs": [],
   "source": [
    "def StockPrice(ticker):\n",
    "    # Get Yahoo link\n",
    "    link = \"https://finance.yahoo.com/quote/{0}?p={0}\".format(ticker)\n",
    "    r = requests.get(link)\n",
    "    soup = bs4.BeautifulSoup(r.text,\"lxml\")\n",
    "    dictionary = {}\n",
    "    \n",
    "    # Metrics\n",
    "    dictionary[\"ticker\"] = ticker\n",
    "    dictionary[\"price\"]  = float(soup.find('div',{'class':'My(6px) Pos(r) smartphone_Mt(6px)'}).find('span').text)\n",
    "    dictionary[\"previous_close\"] = float(soup.find('td',{'data-test':'PREV_CLOSE-value'}).text)\n",
    "    dictionary[\"at_open\"] = float(soup.find('td',{'data-test':'OPEN-value'}).text)\n",
    "    dictionary[\"volume\"] = int(soup.find('td',{'data-test':'TD_VOLUME-value'}).text.replace(',',''))\n",
    "    dictionary[\"avg_volume\"] = int(soup.find('td',{'data-test':'AVERAGE_VOLUME_3MONTH-value'}).text.replace(',',''))\n",
    "    dictionary[\"market_cap\"] = soup.find('td',{'data-test':'MARKET_CAP-value'}).text\n",
    "    dictionary[\"beta\"] = float(soup.find('td',{'data-test':'BETA_5Y-value'}).text)\n",
    "    dictionary[\"PE_ratio\"] = float(soup.find('td',{'data-test':'PE_RATIO-value'}).text)\n",
    "    dictionary[\"EPS_ratio\"] = float(soup.find('td',{'data-test':'EPS_RATIO-value'}).text)\n",
    "    dictionary[\"time\"] = datetime.now()\n",
    "    \n",
    "    return dictionary"
   ]
  },
  {
   "cell_type": "code",
   "execution_count": 21,
   "metadata": {},
   "outputs": [],
   "source": [
    "try:\n",
    "    Stock_data = pd.read_pickle(\"stock_data\")\n",
    "except: \n",
    "    column_names = [\"ticker\", \"price\", \"previous_close\", \"at_open\", \"volume\", \"avg_volume\", \"market_cap\", \"beta\", \"PE_ratio\", \"EPS_ratio\", \"time\"]\n",
    "    Stock_data = pd.DataFrame (columns = column_names)\n",
    "\n",
    "ticker = \"MSFT\"\n",
    "Stock_data = Stock_data.append(StockPrice(ticker), ignore_index = True)\n",
    "Stock_data.to_pickle(\"stock_data\")"
   ]
  },
  {
   "cell_type": "code",
   "execution_count": 22,
   "metadata": {},
   "outputs": [
    {
     "name": "stdout",
     "output_type": "stream",
     "text": [
      "  ticker   price  previous_close  at_open      volume  avg_volume market_cap  \\\n",
      "0   MSFT  187.79          186.27   190.54  13286647.0  48279114.0     1.424T   \n",
      "1   MSFT  187.64          186.27   190.54  13367611.0  48279114.0     1.423T   \n",
      "2   MSFT  189.00          186.27   190.54  16049108.0  48279114.0     1.433T   \n",
      "3   MSFT  187.49          186.27   190.54  22546701.0  48279114.0     1.422T   \n",
      "\n",
      "   beta  PE_ratio  EPS_ratio                       time  \n",
      "0  0.93     31.29        6.0 2020-06-12 12:17:04.707580  \n",
      "1  0.93     31.26        6.0 2020-06-12 12:18:00.340357  \n",
      "2  0.93     31.49        6.0 2020-06-12 12:45:42.836315  \n",
      "3  0.93     31.24        6.0 2020-06-12 14:26:37.924163  \n"
     ]
    }
   ],
   "source": [
    "b = pd.read_pickle(\"stock_data\")\n",
    "print (b)"
   ]
  },
  {
   "cell_type": "code",
   "execution_count": null,
   "metadata": {},
   "outputs": [],
   "source": []
  },
  {
   "cell_type": "code",
   "execution_count": null,
   "metadata": {},
   "outputs": [],
   "source": []
  },
  {
   "cell_type": "code",
   "execution_count": null,
   "metadata": {},
   "outputs": [],
   "source": []
  },
  {
   "cell_type": "code",
   "execution_count": null,
   "metadata": {},
   "outputs": [],
   "source": []
  },
  {
   "cell_type": "code",
   "execution_count": null,
   "metadata": {},
   "outputs": [],
   "source": [
    "def StockPrice(ticker):\n",
    "    link = \"https://finance.yahoo.com/quote/{0}?p={0}\".format(ticker)\n",
    "    r = requests.get(link)\n",
    "    soup = bs4.BeautifulSoup(r.text,\"lxml\")\n",
    "    price = soup.find('div',{'class':'My(6px) Pos(r) smartphone_Mt(6px)'}).find('span').text\n",
    "    previous_close = soup.find('td',{'data-test':'PREV_CLOSE-value'}).text\n",
    "    at_open = soup.find('td',{'data-test':'OPEN-value'}).text\n",
    "    bid = soup.find('td',{'data-test':'BID-value'}).text\n",
    "    ask = soup.find('td',{'data-test':'ASK-value'}).text\n",
    "    days_range = soup.find('td',{'data-test':'DAYS_RANGE-value'}).text\n",
    "    fifty_two_wk_range = soup.find('td',{'data-test':'FIFTY_TWO_WK_RANGE-value'}).text\n",
    "    volume = soup.find('td',{'data-test':'TD_VOLUME-value'}).text\n",
    "    avg_volume = soup.find('td',{'data-test':'AVERAGE_VOLUME_3MONTH-value'}).text\n",
    "    market_cap = soup.find('td',{'data-test':'MARKET_CAP-value'}).text\n",
    "    beta = soup.find('td',{'data-test':'BETA_5Y-value'}).text\n",
    "    PE_ratio = soup.find('td',{'data-test':'PE_RATIO-value'}).text\n",
    "    EPS_ratio = soup.find('td',{'data-test':'EPS_RATIO-value'}).text\n",
    "    earnings_date = soup.find('td',{'data-test':'EARNINGS_DATE-value'}).text\n",
    "    dividend_and_yield = soup.find('td',{'data-test':'DIVIDEND_AND_YIELD-value'}).text\n",
    "    ex_dividend_date = soup.find('td',{'data-test':'EX_DIVIDEND_DATE-value'}).text\n",
    "    one_year_target = soup.find('td',{'data-test':'ONE_YEAR_TARGET_PRICE-value'}).text\n",
    "    time = datetime.now()\n",
    "    \n",
    "    data = (ticker, price, previous_close, at_open, volume, avg_volume, market_cap, beta, PE_ratio, EPS_ratio, time)\n",
    "    \n",
    "    return data"
   ]
  }
 ],
 "metadata": {
  "kernelspec": {
   "display_name": "Python 3",
   "language": "python",
   "name": "python3"
  },
  "language_info": {
   "codemirror_mode": {
    "name": "ipython",
    "version": 3
   },
   "file_extension": ".py",
   "mimetype": "text/x-python",
   "name": "python",
   "nbconvert_exporter": "python",
   "pygments_lexer": "ipython3",
   "version": "3.8.3"
  }
 },
 "nbformat": 4,
 "nbformat_minor": 4
}
